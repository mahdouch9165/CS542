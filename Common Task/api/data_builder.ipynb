{
 "cells": [
  {
   "cell_type": "code",
   "execution_count": 1,
   "metadata": {},
   "outputs": [],
   "source": [
    "from helpers.load_coords import load_city_coords\n",
    "\n",
    "miami_coords, nyc_coords, chicago_coords, austin_coords = load_city_coords()"
   ]
  },
  {
   "cell_type": "markdown",
   "metadata": {},
   "source": [
    "# Data Sources\n",
    "## Open-Meteo\n",
    "URL: https://open-meteo.com/en/docs/historical-weather-api/\n",
    "\n",
    "Historical data dating back to 1940.\n",
    "\n",
    "## Meteostat\n",
    "URL: https://dev.meteostat.net/\n",
    "\n",
    "Unsure of the historical data range.\n",
    "\n",
    "## NOAA\n",
    "URL: https://www.ncdc.noaa.gov/cdo-web/\n",
    "\n",
    "Unsure of the historical data range.\n",
    "\n",
    "\n",
    "## NASA Power API\n",
    "URL: https://power.larc.nasa.gov/docs/v1/\n",
    "\n",
    "Unsure of the historical data range.\n",
    "\n",
    "## "
   ]
  },
  {
   "cell_type": "code",
   "execution_count": 3,
   "metadata": {},
   "outputs": [
    {
     "name": "stdout",
     "output_type": "stream",
     "text": [
      "Coordinates 25.764497756958008°N -80.39215087890625°E\n",
      "Elevation 3.0 m asl\n",
      "Timezone None None\n",
      "Timezone difference to GMT+0 0 s\n",
      "                           date  temperature_2m_max\n",
      "0     1940-01-01 00:00:00+00:00           70.285103\n",
      "1     1940-01-02 00:00:00+00:00           73.255096\n",
      "2     1940-01-03 00:00:00+00:00           71.275101\n",
      "3     1940-01-04 00:00:00+00:00           76.225098\n",
      "4     1940-01-05 00:00:00+00:00           77.575104\n",
      "...                         ...                 ...\n",
      "30740 2024-02-29 00:00:00+00:00           80.940201\n",
      "30741 2024-03-01 00:00:00+00:00           78.510201\n",
      "30742 2024-03-02 00:00:00+00:00           79.590195\n",
      "30743 2024-03-03 00:00:00+00:00           82.650200\n",
      "30744 2024-03-04 00:00:00+00:00           81.930199\n",
      "\n",
      "[30745 rows x 2 columns]\n"
     ]
    }
   ],
   "source": [
    "import openmeteo_requests\n",
    "\n",
    "import requests_cache\n",
    "import pandas as pd\n",
    "from retry_requests import retry\n",
    "\n",
    "# Setup the Open-Meteo API client with cache and retry on error\n",
    "cache_session = requests_cache.CachedSession('.cache', expire_after = -1)\n",
    "retry_session = retry(cache_session, retries = 5, backoff_factor = 0.2)\n",
    "openmeteo = openmeteo_requests.Client(session = retry_session)\n",
    "\n",
    "# Make sure all required weather variables are listed here\n",
    "# The order of variables in hourly or daily is important to assign them correctly below\n",
    "url = \"https://archive-api.open-meteo.com/v1/archive\"\n",
    "params = {\n",
    "\t\"latitude\": miami_coords[\"lat\"],\n",
    "\t\"longitude\": miami_coords[\"long\"],\n",
    "\t\"start_date\": \"1940-01-01\",\n",
    "\t\"end_date\": \"2024-03-04\",\n",
    "\t\"daily\": \"temperature_2m_max\",\n",
    "\t\"temperature_unit\": \"fahrenheit\"\n",
    "}\n",
    "responses = openmeteo.weather_api(url, params=params)\n",
    "\n",
    "# Process first location. Add a for-loop for multiple locations or weather models\n",
    "response = responses[0]\n",
    "print(f\"Coordinates {response.Latitude()}°N {response.Longitude()}°E\")\n",
    "print(f\"Elevation {response.Elevation()} m asl\")\n",
    "print(f\"Timezone {response.Timezone()} {response.TimezoneAbbreviation()}\")\n",
    "print(f\"Timezone difference to GMT+0 {response.UtcOffsetSeconds()} s\")\n",
    "\n",
    "# Process daily data. The order of variables needs to be the same as requested.\n",
    "daily = response.Daily()\n",
    "daily_temperature_2m_max = daily.Variables(0).ValuesAsNumpy()\n",
    "\n",
    "daily_data = {\"date\": pd.date_range(\n",
    "\tstart = pd.to_datetime(daily.Time(), unit = \"s\", utc = True),\n",
    "\tend = pd.to_datetime(daily.TimeEnd(), unit = \"s\", utc = True),\n",
    "\tfreq = pd.Timedelta(seconds = daily.Interval()),\n",
    "\tinclusive = \"left\"\n",
    ")}\n",
    "daily_data[\"temperature_2m_max\"] = daily_temperature_2m_max\n",
    "\n",
    "daily_dataframe = pd.DataFrame(data = daily_data)\n",
    "print(daily_dataframe)"
   ]
  },
  {
   "cell_type": "code",
   "execution_count": 4,
   "metadata": {},
   "outputs": [
    {
     "name": "stdout",
     "output_type": "stream",
     "text": [
      "Coordinates 25.750526428222656°N -80.38168334960938°E\n",
      "Elevation 3.0 m asl\n",
      "Timezone None None\n",
      "Timezone difference to GMT+0 0 s\n",
      "{'date': DatetimeIndex(['2024-03-05 00:00:00+00:00'], dtype='datetime64[ns, UTC]', freq='D'), 'temperature_2m_max': array([83.7302], dtype=float32)}\n"
     ]
    }
   ],
   "source": [
    "# Make sure all required weather variables are listed here\n",
    "# The order of variables in hourly or daily is important to assign them correctly below\n",
    "url = \"https://api.open-meteo.com/v1/forecast\"\n",
    "params = {\n",
    "\t\"latitude\": miami_coords[\"lat\"],\n",
    "\t\"longitude\": miami_coords[\"long\"],\n",
    "\t\"daily\": \"temperature_2m_max\",\n",
    "\t\"temperature_unit\": \"fahrenheit\",\n",
    "\t\"past_days\": 1,\n",
    "\t\"forecast_days\": 0\n",
    "}\n",
    "responses = openmeteo.weather_api(url, params=params)\n",
    "\n",
    "# Process first location. Add a for-loop for multiple locations or weather models\n",
    "response = responses[0]\n",
    "print(f\"Coordinates {response.Latitude()}°N {response.Longitude()}°E\")\n",
    "print(f\"Elevation {response.Elevation()} m asl\")\n",
    "print(f\"Timezone {response.Timezone()} {response.TimezoneAbbreviation()}\")\n",
    "print(f\"Timezone difference to GMT+0 {response.UtcOffsetSeconds()} s\")\n",
    "\n",
    "# Process daily data. The order of variables needs to be the same as requested.\n",
    "daily = response.Daily()\n",
    "daily_temperature_2m_max = daily.Variables(0).ValuesAsNumpy()\n",
    "\n",
    "daily_data = {\"date\": pd.date_range(\n",
    "\tstart = pd.to_datetime(daily.Time(), unit = \"s\", utc = True),\n",
    "\tend = pd.to_datetime(daily.TimeEnd(), unit = \"s\", utc = True),\n",
    "\tfreq = pd.Timedelta(seconds = daily.Interval()),\n",
    "\tinclusive = \"left\"\n",
    ")}\n",
    "daily_data[\"temperature_2m_max\"] = daily_temperature_2m_max\n",
    "print(daily_data)"
   ]
  },
  {
   "cell_type": "code",
   "execution_count": 9,
   "metadata": {},
   "outputs": [
    {
     "name": "stdout",
     "output_type": "stream",
     "text": [
      "                           date  temperature_2m_max\n",
      "0     1940-01-01 00:00:00+00:00           70.285103\n",
      "1     1940-01-02 00:00:00+00:00           73.255096\n",
      "2     1940-01-03 00:00:00+00:00           71.275101\n",
      "3     1940-01-04 00:00:00+00:00           76.225098\n",
      "4     1940-01-05 00:00:00+00:00           77.575104\n",
      "...                         ...                 ...\n",
      "30741 2024-03-01 00:00:00+00:00           78.510201\n",
      "30742 2024-03-02 00:00:00+00:00           79.590195\n",
      "30743 2024-03-03 00:00:00+00:00           82.650200\n",
      "30744 2024-03-04 00:00:00+00:00           81.930199\n",
      "30745 2024-03-05 00:00:00+00:00           83.730202\n",
      "\n",
      "[30746 rows x 2 columns]\n"
     ]
    }
   ],
   "source": [
    "# append daily data to dataframe\n",
    "daily_dataframe = pd.concat([daily_dataframe, pd.DataFrame(data=daily_data)], ignore_index=True)\n",
    "print(daily_dataframe)"
   ]
  },
  {
   "cell_type": "code",
   "execution_count": 10,
   "metadata": {},
   "outputs": [],
   "source": [
    "# save to csv\n",
    "daily_dataframe.to_csv(\"../data/miami_weather.csv\", index=False)"
   ]
  }
 ],
 "metadata": {
  "kernelspec": {
   "display_name": "venv",
   "language": "python",
   "name": "python3"
  },
  "language_info": {
   "codemirror_mode": {
    "name": "ipython",
    "version": 3
   },
   "file_extension": ".py",
   "mimetype": "text/x-python",
   "name": "python",
   "nbconvert_exporter": "python",
   "pygments_lexer": "ipython3",
   "version": "3.9.13"
  }
 },
 "nbformat": 4,
 "nbformat_minor": 2
}
