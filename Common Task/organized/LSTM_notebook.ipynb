{
 "cells": [
  {
   "cell_type": "code",
   "execution_count": null,
   "metadata": {},
   "outputs": [],
   "source": [
    "import pandas as pd\n",
    "import numpy as np\n",
    "from df_utils import *\n",
    "pd.set_option('display.max_columns', None)\n",
    "\n",
    "noaa_austin_path = './data/Austin_NOAA.csv'\n",
    "om_austin_path = './data/Austin_OM.csv'\n",
    "wrh_austin_path = './data/Austin_WRH.csv'\n",
    "air_austin_path = './data/Austin_Air_Quality.csv'\n",
    "solar_austin_path = './data/Austin_Solar_Soil.csv'\n",
    "\n",
    "noaa_nyc_path = './data/NYC_NOAA.csv'\n",
    "om_nyc_path = './data/NYC_OM.csv'\n",
    "wrh_nyc_path = './data/NYC_WRH.csv'\n",
    "air_nyc_path = './data/NYC_Air_Quality.csv'\n",
    "solar_nyc_path = './data/NYC_Solar_Soil.csv'\n",
    "\n",
    "noaa_miami_path = './data/Miami_NOAA.csv'\n",
    "om_miami_path = './data/Miami_OM.csv'\n",
    "wrh_miami_path = './data/Miami_WRH.csv'\n",
    "air_miami_path = './data/Miami_Air_Quality.csv'\n",
    "solar_miami_path = './data/Miami_Solar_Soil.csv'\n",
    "\n",
    "noaa_chicago_path = './data/Chicago_NOAA.csv'\n",
    "om_chicago_path = './data/Chicago_OM.csv'\n",
    "wrh_chicago_path = './data/Chicago_WRH.csv'\n",
    "air_chicago_path = './data/Chicago_Air_Quality.csv'\n",
    "solar_chicago_path = './data/Chicago_Solar_Soil.csv'\n",
    "\n",
    "daily_df, daily_df_2, daily_df_3, all_df, predictor_final = load_all_dfs(noaa_austin_path, om_austin_path, solar_austin_path, wrh_austin_path, air_austin_path)\n",
    "#daily_df, daily_df_2, daily_df_3, all_df, predictor_final = load_all_dfs(noaa_nyc_path, om_nyc_path, solar_nyc_path, wrh_nyc_path, air_nyc_path)\n",
    "#daily_df, daily_df_2, daily_df_3, all_df, predictor_final = load_all_dfs(noaa_miami_path, om_miami_path, solar_miami_path, wrh_miami_path, air_miami_path)\n",
    "#daily_df, daily_df_2, daily_df_3, all_df, predictor_final = load_all_dfs(noaa_chicago_path, om_chicago_path, solar_chicago_path, wrh_chicago_path, air_chicago_path)"
   ]
  },
  {
   "cell_type": "markdown",
   "metadata": {},
   "source": [
    "# Daily DF (Combined NOAA and OM) Exploration"
   ]
  },
  {
   "cell_type": "code",
   "execution_count": null,
   "metadata": {},
   "outputs": [],
   "source": [
    "daily_df.head()"
   ]
  },
  {
   "cell_type": "code",
   "execution_count": null,
   "metadata": {},
   "outputs": [],
   "source": [
    "daily_df.tail()"
   ]
  },
  {
   "cell_type": "markdown",
   "metadata": {},
   "source": [
    "# Daily_DF_2 Exploration"
   ]
  },
  {
   "cell_type": "code",
   "execution_count": null,
   "metadata": {},
   "outputs": [],
   "source": [
    "daily_df_2.head()"
   ]
  },
  {
   "cell_type": "code",
   "execution_count": null,
   "metadata": {},
   "outputs": [],
   "source": [
    "daily_df_2.tail()"
   ]
  },
  {
   "cell_type": "markdown",
   "metadata": {},
   "source": [
    "# Daily_DF_3 Exploration"
   ]
  },
  {
   "cell_type": "code",
   "execution_count": null,
   "metadata": {},
   "outputs": [],
   "source": [
    "daily_df_3.head()"
   ]
  },
  {
   "cell_type": "code",
   "execution_count": null,
   "metadata": {},
   "outputs": [],
   "source": [
    "daily_df_3.tail()"
   ]
  },
  {
   "cell_type": "markdown",
   "metadata": {},
   "source": [
    "# All_DF Exploration"
   ]
  },
  {
   "cell_type": "code",
   "execution_count": null,
   "metadata": {},
   "outputs": [],
   "source": [
    "all_df.head()"
   ]
  },
  {
   "cell_type": "code",
   "execution_count": null,
   "metadata": {},
   "outputs": [],
   "source": [
    "all_df.shape"
   ]
  },
  {
   "cell_type": "code",
   "execution_count": null,
   "metadata": {},
   "outputs": [],
   "source": [
    "predictor_final"
   ]
  },
  {
   "cell_type": "markdown",
   "metadata": {},
   "source": [
    "# Training"
   ]
  },
  {
   "cell_type": "code",
   "execution_count": null,
   "metadata": {},
   "outputs": [],
   "source": [
    "from training_utils import *\n",
    "\n",
    "# Iteration 1\n",
    "columns_to_ignore = ['date', 'next_day_max_temp']\n",
    "target_column = 'next_day_max_temp'\n",
    "#data = daily_df[daily_df['date'] < daily_df_2['date'].min()]\n",
    "data = all_df \n",
    "X_train, y_train, X_val, y_val, X_test, y_test, scaler_features = prep_data(data, columns_to_ignore, target_column)\n",
    "model = get_model(X_train, y_train, dropout_rate=0.2, num_layers=2, hidden_size=32, model_type = 'lstm')\n",
    "model = train_model(model, X_train, y_train, X_val, y_val, lr=0.005, l2_lambda=0.01, epochs=10)\n",
    "test_loss = get_test_loss(model, X_test, y_test)\n",
    "plot_preds(model(X_test), y_test)"
   ]
  },
  {
   "cell_type": "code",
   "execution_count": null,
   "metadata": {},
   "outputs": [],
   "source": [
    "# save scaler\n",
    "import joblib\n",
    "joblib.dump(scaler_features, './weights/Austin_scaler_features.pkl')"
   ]
  },
  {
   "cell_type": "code",
   "execution_count": null,
   "metadata": {},
   "outputs": [],
   "source": [
    "# save model\n",
    "torch.save(model, './weights/Austin_lstm.pt')"
   ]
  },
  {
   "cell_type": "code",
   "execution_count": null,
   "metadata": {},
   "outputs": [],
   "source": [
    "# data = daily_df_2[daily_df_2['date'] < daily_df_3['date'].min()]\n",
    "# X_train, y_train, X_val, y_val, X_test, y_test, scaler_features = prep_data(data, columns_to_ignore, target_column)\n",
    "# model2 = get_model(X_train, y_train, dropout_rate=0.3)\n",
    "# model2 = weight_transfer(model2, model)\n",
    "# model2 = train_model(model2, X_train, y_train, X_val, y_val, epochs=30, lr=0.001)\n",
    "# test_loss = get_test_loss(model2, X_test, y_test)\n",
    "# plot_preds(model2(X_test), y_test)"
   ]
  },
  {
   "cell_type": "code",
   "execution_count": null,
   "metadata": {},
   "outputs": [],
   "source": [
    "# data = daily_df_3\n",
    "# X_train, y_train, X_val, y_val, X_test, y_test, scaler_features = prep_data(data, columns_to_ignore, target_column)\n",
    "# model3 = get_model(X_train, y_train, dropout_rate=0.3)\n",
    "# model3 = weight_transfer(model3, model2)\n",
    "# model3 = train_model(model3, X_train, y_train, X_val, y_val, lr = 0.001, epochs=200, l2_lambda=0.01)\n",
    "# test_loss = get_test_loss(model3, X_test, y_test)\n",
    "# plot_preds(model3(X_test), y_test)"
   ]
  }
 ],
 "metadata": {
  "kernelspec": {
   "display_name": "venv",
   "language": "python",
   "name": "python3"
  },
  "language_info": {
   "codemirror_mode": {
    "name": "ipython",
    "version": 3
   },
   "file_extension": ".py",
   "mimetype": "text/x-python",
   "name": "python",
   "nbconvert_exporter": "python",
   "pygments_lexer": "ipython3",
   "version": "3.9.13"
  }
 },
 "nbformat": 4,
 "nbformat_minor": 2
}
