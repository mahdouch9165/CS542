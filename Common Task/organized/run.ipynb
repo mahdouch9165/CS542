{
 "cells": [
  {
   "cell_type": "code",
   "execution_count": 1,
   "metadata": {},
   "outputs": [],
   "source": [
    "from utils import *\n",
    "from df_utils import *\n",
    "from training_utils import *\n",
    "from kalshi_utils import *\n",
    "import torch\n",
    "import pandas as pd\n",
    "import numpy as np\n",
    "pd.set_option('display.max_columns', None)\n",
    "\n",
    "# I found that loading the data initially is not the most consistent, so I did not include it in the run.py file.\n",
    "# I have util functions that can be used to load the bulk of the data, but I will not include them here.\n",
    "# For downloading the bulk data initially, I would recommend using the load_Source_data() function in the utils.py file.\n",
    "# And using it in a python notebook for a more controlled/manual initial download."
   ]
  },
  {
   "cell_type": "code",
   "execution_count": 2,
   "metadata": {},
   "outputs": [
    {
     "name": "stdout",
     "output_type": "stream",
     "text": [
      "Error: Message: element click intercepted: Element <li class=\"ui-menu-item\" id=\"ui-id-4\" tabindex=\"-1\" role=\"menuitem\">...</li> is not clickable at point (92, 12). Other element would receive the click: <div class=\"toplogo\">...</div>\n",
      "  (Session info: chrome-headless-shell=123.0.6312.86)\n",
      "Stacktrace:\n",
      "\tGetHandleVerifier [0x00007FF6D1FC70C2+63090]\n",
      "\t(No symbol) [0x00007FF6D1F32D12]\n",
      "\t(No symbol) [0x00007FF6D1DCEC65]\n",
      "\t(No symbol) [0x00007FF6D1E1BB34]\n",
      "\t(No symbol) [0x00007FF6D1E19954]\n",
      "\t(No symbol) [0x00007FF6D1E17164]\n",
      "\t(No symbol) [0x00007FF6D1E15EF9]\n",
      "\t(No symbol) [0x00007FF6D1E0A708]\n",
      "\t(No symbol) [0x00007FF6D1E36FDA]\n",
      "\t(No symbol) [0x00007FF6D1E0A00A]\n",
      "\t(No symbol) [0x00007FF6D1E371F0]\n",
      "\t(No symbol) [0x00007FF6D1E53412]\n",
      "\t(No symbol) [0x00007FF6D1E36D83]\n",
      "\t(No symbol) [0x00007FF6D1E083A8]\n",
      "\t(No symbol) [0x00007FF6D1E09441]\n",
      "\tGetHandleVerifier [0x00007FF6D23C262D+4238301]\n",
      "\tGetHandleVerifier [0x00007FF6D23FF78D+4488509]\n",
      "\tGetHandleVerifier [0x00007FF6D23F7A6F+4456479]\n",
      "\tGetHandleVerifier [0x00007FF6D20A0606+953270]\n",
      "\t(No symbol) [0x00007FF6D1F3E5DF]\n",
      "\t(No symbol) [0x00007FF6D1F392B4]\n",
      "\t(No symbol) [0x00007FF6D1F393EB]\n",
      "\t(No symbol) [0x00007FF6D1F29C24]\n",
      "\tBaseThreadInitThunk [0x00007FFDD2E87344+20]\n",
      "\tRtlUserThreadStart [0x00007FFDD41026B1+33]\n",
      "\n",
      "Retrying... 1/10\n"
     ]
    },
    {
     "name": "stderr",
     "output_type": "stream",
     "text": [
      "DtypeWarning: Columns (20,28) have mixed types. Specify dtype option on import or set low_memory=False.\n",
      "DtypeWarning: Columns (20,27) have mixed types. Specify dtype option on import or set low_memory=False.\n",
      "DtypeWarning: Columns (22,28) have mixed types. Specify dtype option on import or set low_memory=False.\n",
      "DtypeWarning: Columns (13,28) have mixed types. Specify dtype option on import or set low_memory=False.\n"
     ]
    },
    {
     "name": "stdout",
     "output_type": "stream",
     "text": [
      "Data updated successfully!\n"
     ]
    }
   ],
   "source": [
    "# Step 1: Update the data\n",
    "# This will update the data from the sources and include entries up until yesterday's date.\n",
    "# This will provide us with a data entry that can be used for prediction of the current day.\n",
    "num_retries = 10\n",
    "for i in range(num_retries):\n",
    "    try:\n",
    "        update_NOAA_data()\n",
    "        break\n",
    "    except Exception as e:\n",
    "        print(f\"Error: {e}\")\n",
    "        print(f\"Retrying... {i+1}/{num_retries}\")\n",
    "        time.sleep(10)\n",
    "        \n",
    "for i in range(num_retries):\n",
    "    try:\n",
    "        update_OM_data()\n",
    "        break\n",
    "    except Exception as e:\n",
    "        print(f\"Error: {e}\")\n",
    "        print(f\"Retrying... {i+1}/{num_retries}\")\n",
    "        time.sleep(10)\n",
    "        \n",
    "for i in range(num_retries):\n",
    "    try:\n",
    "        update_WRH_data()\n",
    "        break\n",
    "    except Exception as e:\n",
    "        print(f\"Error: {e}\")\n",
    "        print(f\"Retrying... {i+1}/{num_retries}\")\n",
    "        time.sleep(10)\n",
    "        \n",
    "for i in range(num_retries):\n",
    "    try:\n",
    "        update_Solar_Soil_data()\n",
    "        break\n",
    "    except Exception as e:\n",
    "        print(f\"Error: {e}\")\n",
    "        print(f\"Retrying... {i+1}/{num_retries}\")\n",
    "        time.sleep(10)\n",
    "        \n",
    "for i in range(num_retries):\n",
    "    try:\n",
    "        update_Air_Quality_data()\n",
    "        break\n",
    "    except Exception as e:\n",
    "        print(f\"Error: {e}\")\n",
    "        print(f\"Retrying... {i+1}/{num_retries}\")\n",
    "        time.sleep(10)\n",
    "        \n",
    "print(\"Data updated successfully!\")"
   ]
  },
  {
   "cell_type": "code",
   "execution_count": 2,
   "metadata": {},
   "outputs": [
    {
     "name": "stderr",
     "output_type": "stream",
     "text": [
      "DtypeWarning: Columns (20,28) have mixed types. Specify dtype option on import or set low_memory=False.\n",
      "UserWarning: X does not have valid feature names, but StandardScaler was fitted with feature names\n"
     ]
    },
    {
     "name": "stdout",
     "output_type": "stream",
     "text": [
      "56.25273640950521\n"
     ]
    },
    {
     "name": "stderr",
     "output_type": "stream",
     "text": [
      "DtypeWarning: Columns (20,27) have mixed types. Specify dtype option on import or set low_memory=False.\n",
      "UserWarning: X does not have valid feature names, but StandardScaler was fitted with feature names\n"
     ]
    },
    {
     "name": "stdout",
     "output_type": "stream",
     "text": [
      "56.207986195882164\n"
     ]
    },
    {
     "name": "stderr",
     "output_type": "stream",
     "text": [
      "DtypeWarning: Columns (22,28,33,37) have mixed types. Specify dtype option on import or set low_memory=False.\n",
      "UserWarning: X does not have valid feature names, but StandardScaler was fitted with feature names\n"
     ]
    },
    {
     "name": "stdout",
     "output_type": "stream",
     "text": [
      "83.8883285522461\n"
     ]
    },
    {
     "name": "stderr",
     "output_type": "stream",
     "text": [
      "DtypeWarning: Columns (13,28) have mixed types. Specify dtype option on import or set low_memory=False.\n",
      "UserWarning: X does not have valid feature names, but StandardScaler was fitted with feature names\n"
     ]
    },
    {
     "name": "stdout",
     "output_type": "stream",
     "text": [
      "76.98589579264323\n"
     ]
    }
   ],
   "source": [
    "# Step 2: Get city info and iterate through the cities\n",
    "# The workflow will be as follows:\n",
    "# 1. Load the data for the city - done\n",
    "# 2. Load the models for the city - done\n",
    "# 3. Predict the next day's data entry - done\n",
    "# 4. Place a bet on Kalshi\n",
    "city_info = get_city_info()\n",
    "kalshi = KalshiAPI()\n",
    "\n",
    "for city in city_info.keys():\n",
    "    # Get paths for the city data\n",
    "    noaa_path = city_info[city]['noaa']\n",
    "    om_path = city_info[city]['om']\n",
    "    wrh_path = city_info[city]['wrh']\n",
    "    aq_path = city_info[city]['aq']\n",
    "    solar_path = city_info[city]['ss']\n",
    "    attn_lstm_path = city_info[city]['attn_lstm']\n",
    "    lstm_path = city_info[city]['lstm']\n",
    "    xgb_path = city_info[city]['xgb']\n",
    "    scaler_features_path = city_info[city]['scaler']\n",
    "    kalshi_ticker = city_info[city]['kalshi']\n",
    "    history_path = city_info[city]['history']\n",
    "    \n",
    "    # Load the data for the city\n",
    "    # all_df is the main dataframe that contains all the data combined. I included subsets of the dataframes as well,\n",
    "    # in case I need them in the future. Predictor is simply the last row. I extracted it so that it does not get\n",
    "    # deleted by dropna.   \n",
    "    daily_df, daily_df_2, daily_df_3, all_df, predictor_final = load_all_dfs(noaa_path, om_path, solar_path, wrh_path, aq_path)\n",
    "    \n",
    "    # Load the models for the city\n",
    "    attn_lstm_model = load_model(attn_lstm_path)\n",
    "    lstm_model = load_model(lstm_path)\n",
    "    xgb_model = load_xgb(xgb_path)\n",
    "    scaler_features = load_scaler(scaler_features_path)\n",
    "    scaled_feature_list = scaler_features.feature_names_in_\n",
    "    # Prepare the data for prediction (using prep_data for ease sequence creation)\n",
    "    columns_to_ignore = ['date', 'next_day_max_temp']\n",
    "    target_column = 'next_day_max_temp'\n",
    "    data = all_df\n",
    "    current_columns = data.drop(columns=columns_to_ignore).columns\n",
    "    # figure out which columns are extra\n",
    "    extra_columns = [col for col in current_columns if col not in scaled_feature_list]\n",
    "    # append the extra columns to columns_to_ignore\n",
    "    columns_to_ignore += extra_columns\n",
    "    \n",
    "    features = data.drop(columns=columns_to_ignore).columns\n",
    "    target = target_column\n",
    "    \n",
    "    # Split the data into training, validation, and testing sets\n",
    "    train_size = int(len(data) * 0.7)\n",
    "    val_size = int(len(data) * 0.15)\n",
    "    train_data = data[:train_size]\n",
    "    val_data = data[train_size:train_size+val_size]\n",
    "    test_data = data[train_size+val_size:]\n",
    "    # Create sequences\n",
    "    def create_sequences(features, target, seq_length):\n",
    "        X = []\n",
    "        y = []\n",
    "        for i in range(len(features) - seq_length):\n",
    "            X.append(features[i:i+seq_length])\n",
    "        y.append(target[i+seq_length])\n",
    "        return np.array(X), np.array(y)\n",
    "    # Create sequences for the training, validation, and testing sets\n",
    "    seq_length = 20  # Number of previous days to use as input\n",
    "    test_features = scaler_features.transform(test_data[features])\n",
    "    X_test, y_test = create_sequences(test_features, test_data[target].values, seq_length)\n",
    "    # Get the last sequence for prediction\n",
    "    last_sequence = X_test[-1]\n",
    "    last_result = y_test[-1]\n",
    "    # turn the last sequence into a tensor\n",
    "    last_sequence = torch.FloatTensor(last_sequence).unsqueeze(0)\n",
    "    \n",
    "    # Update the last sequence, by popping the first element and appending the new prediction\n",
    "    last_sequence = last_sequence.squeeze(0).tolist()\n",
    "    last_sequence.pop(0)\n",
    "    predictor_feature = predictor_final.drop(labels=columns_to_ignore)\n",
    "    predictor_feature = predictor_feature.fillna(0)\n",
    "    # reshape to (1, -1) for the scaler\n",
    "    predictor_feature = predictor_feature.values.reshape(1, -1)\n",
    "    predictor_feature = scaler_features.transform(predictor_feature).tolist()[0]\n",
    "    last_sequence.append(predictor_feature)\n",
    "    last_sequence = torch.FloatTensor([last_sequence])\n",
    "    \n",
    "    # predict using the models\n",
    "    attn_lstm_model.eval()\n",
    "    with torch.no_grad():\n",
    "        attn_lstm_output = attn_lstm_model(last_sequence)\n",
    "    attn_lstm_output = attn_lstm_output.item()\n",
    "    lstm_model.eval()\n",
    "    with torch.no_grad():\n",
    "        lstm_output = lstm_model(last_sequence)\n",
    "    lstm_output = lstm_output.item()\n",
    "    # predict with xgb\n",
    "    xgb_output = xgb_model.predict(np.array(predictor_feature).reshape(1, -1))\n",
    "    xgb_output = xgb_output[0]\n",
    "    \n",
    "    # mean of the predictions\n",
    "    prediction = (attn_lstm_output + lstm_output + xgb_output) / 3\n",
    "    print(prediction)\n",
    "    # Proceed to Kalshi.\n",
    "    # 1 update old settlements for bookkeeping\n",
    "    kalshi.update_old_orders(history_path)\n",
    "    \n",
    "    # 2. check market status\n",
    "    exchange_status = kalshi.get_exchange_status()\n",
    "    if exchange_status.trading_active:\n",
    "        # get event\n",
    "        event = kalshi.format_event_ticker(kalshi_ticker)\n",
    "        # get markets\n",
    "        markets = kalshi.get_event_markets(event)\n",
    "        # place bets\n",
    "        order_list = kalshi.place_orders(prediction, markets)\n",
    "        # log the orders\n",
    "        kalshi.log_order(order_list, history_path, prediction)\n",
    "        \n",
    "    # For safety and consistency, I will re-load and re-save the data after each city.\n",
    "    df = pd.read_csv(history_path)\n",
    "    df['date_time'] = pd.to_datetime(df['date_time'], format='mixed')\n",
    "    df.to_csv(history_path, index=False)"
   ]
  }
 ],
 "metadata": {
  "kernelspec": {
   "display_name": "venv",
   "language": "python",
   "name": "python3"
  },
  "language_info": {
   "codemirror_mode": {
    "name": "ipython",
    "version": 3
   },
   "file_extension": ".py",
   "mimetype": "text/x-python",
   "name": "python",
   "nbconvert_exporter": "python",
   "pygments_lexer": "ipython3",
   "version": "3.9.13"
  }
 },
 "nbformat": 4,
 "nbformat_minor": 2
}
