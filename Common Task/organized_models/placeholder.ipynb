{
 "cells": [
  {
   "cell_type": "code",
   "execution_count": 1,
   "metadata": {},
   "outputs": [],
   "source": [
    "from utils import *"
   ]
  },
  {
   "cell_type": "code",
   "execution_count": 2,
   "metadata": {},
   "outputs": [
    {
     "name": "stdout",
     "output_type": "stream",
     "text": [
      "['Data for MIAMI INTERNATIONAL AP, FLDate, MaxTemperature, MaxTemperatureNormal, MaxTemperatureDeparture, MinTemperature, MinTemperatureNormal, MinTemperatureDeparture, AvgTemperature, AvgTemperatureNormal, AvgTemperatureDeparture, AtObsTemperature, Precipitation, PrecipitationNormal, PrecipitationDeparture, Snowfall, SnowfallNormal, SnowfallDeparture, SnowDepth, HDD, HDDNormal, HDDDeparture, CDD, CDDNormal, CDDDeparture, GDD2024-03-14, 84, 80.4, 3.6, 70, 65.3, 4.7, 77.0, 72.8, 4.2, M, 0.00, 0.08, -0.08, 0.0, 0.0, 0.0, 0, 0, 0.3, -0.3, 12, 8.1, 3.9, 272024-03-15, 83, 80.5, 2.5, 73, 65.3, 7.7, 78.0, 72.9, 5.1, M, 0.00, 0.08, -0.08, 0.0, 0.0, 0.0, 0, 0, 0.3, -0.3, 13, 8.2, 4.8, 282024-03-16, 86, 80.5, 5.5, 70, 65.4, 4.6, 78.0, 73.0, 5.0, M, 0.00, 0.07, -0.07, 0.0, 0.0, 0.0, 0, 0, 0.3, -0.3, 13, 8.3, 4.7, 282024-03-17, 87, 80.6, 6.4, 72, 65.5, 6.5, 79.5, 73.1, 6.4, M, 0.00, 0.08, -0.08, 0.0, 0.0, 0.0, 0, 0, 0.3, -0.3, 15, 8.3, 6.7, 302024-03-18, 91, 80.7, 10.3, 73, 65.6, 7.4, 82.0, 73.2, 8.8, M, T, 0.08, -0.08, 0.0, 0.0, 0.0, 0, 0, 0.2, -0.2, 17, 8.4, 8.6, 322024-03-19, 79, 80.8, -1.8, 66, 65.7, 0.3, 72.5, 73.2, -0.7, M, T, 0.08, -0.08, 0.0, 0.0, 0.0, 0, 0, 0.2, -0.2, 8, 8.5, -0.5, 232024-03-20, M, 80.9, M, M, 65.8, M, M, 73.3, M, M, M, 0.08, M, M, 0.0, M, M, M, 0.2, M, M, 8.5, M, M']\n"
     ]
    }
   ],
   "source": [
    "driver = get_webdriver()\n",
    "\n",
    "# Navigate to the website\n",
    "url = 'https://scacis.rcc-acis.org/'\n",
    "driver.get(url)\n",
    "\n",
    "# Call the function to submit the form and get the results\n",
    "results = daily_data_listing_7_day(driver, 'KMIA')\n",
    "\n",
    "# Print the results\n",
    "print(results)\n",
    "\n",
    "# Close the webdriver\n",
    "driver.quit()"
   ]
  }
 ],
 "metadata": {
  "kernelspec": {
   "display_name": "venv",
   "language": "python",
   "name": "python3"
  },
  "language_info": {
   "codemirror_mode": {
    "name": "ipython",
    "version": 3
   },
   "file_extension": ".py",
   "mimetype": "text/x-python",
   "name": "python",
   "nbconvert_exporter": "python",
   "pygments_lexer": "ipython3",
   "version": "3.9.13"
  }
 },
 "nbformat": 4,
 "nbformat_minor": 2
}
