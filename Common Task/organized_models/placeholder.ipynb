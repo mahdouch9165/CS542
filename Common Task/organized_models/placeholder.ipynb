{
 "cells": [
  {
   "cell_type": "code",
   "execution_count": 1,
   "metadata": {},
   "outputs": [
    {
     "name": "stdout",
     "output_type": "stream",
     "text": [
      "c:\\Users\\kmfoc\\My Drive\\BU Files\\BU Masters\\Work\\Spring 2024\\CS542\\Common Task\\organized_models\n",
      "c:\\Users\\kmfoc\\My Drive\\BU Files\\BU Masters\\Work\\Spring 2024\\CS542\\Common Task\\organized_models\n"
     ]
    }
   ],
   "source": [
    "from utils import update_noaa_data\n",
    "\n",
    "update_noaa_data()"
   ]
  }
 ],
 "metadata": {
  "kernelspec": {
   "display_name": "venv",
   "language": "python",
   "name": "python3"
  },
  "language_info": {
   "codemirror_mode": {
    "name": "ipython",
    "version": 3
   },
   "file_extension": ".py",
   "mimetype": "text/x-python",
   "name": "python",
   "nbconvert_exporter": "python",
   "pygments_lexer": "ipython3",
   "version": "3.9.13"
  }
 },
 "nbformat": 4,
 "nbformat_minor": 2
}
